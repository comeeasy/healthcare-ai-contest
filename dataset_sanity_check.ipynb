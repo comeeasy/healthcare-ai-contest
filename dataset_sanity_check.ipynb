{
 "cells": [
  {
   "cell_type": "code",
   "execution_count": 1,
   "metadata": {},
   "outputs": [],
   "source": [
    "from glob import glob\n",
    "from src.utils import open_json\n",
    "import os\n",
    "from tqdm import tqdm"
   ]
  },
  {
   "cell_type": "code",
   "execution_count": 4,
   "metadata": {},
   "outputs": [],
   "source": [
    "def dataset_sanity_check(json_files, dataset_root):\n",
    "    for json_file in tqdm(json_files):\n",
    "        img_path, tooth_info = open_json(json_file)\n",
    "        if not os.path.isfile(os.path.join(dataset_root, img_path)):\n",
    "            print(f\"[No Image] {json_file}\")\n",
    "            \n",
    "        json_name = json_file.split(\"/\")[-1].split(\".\")[0].split(\"_\")[-1]\n",
    "        img_name = img_path.split(\"/\")[-1].split(\".\")[0].split(\"_\")[-1]\n",
    "        if json_name != img_name:\n",
    "            print(f\"[json name & img name unmatched] {json_file}\")"
   ]
  },
  {
   "cell_type": "code",
   "execution_count": 6,
   "metadata": {},
   "outputs": [
    {
     "name": "stderr",
     "output_type": "stream",
     "text": [
      "100%|██████████| 26981/26981 [07:03<00:00, 63.72it/s]\n"
     ]
    }
   ],
   "source": [
    "train_json = glob(\"Dataset/train_data/json/*\")\n",
    "test_json = glob(\"Dataset/test_data/json/*\")\n",
    "train_dset_path = \"./Dataset/train_data/\"\n",
    "test_dset_path = \"./Dataset/test_data/\"\n",
    "\n",
    "dataset_sanity_check(train_json, train_dset_path)\n",
    "dataset_sanity_check(test_json, test_dset_path)"
   ]
  },
  {
   "cell_type": "markdown",
   "metadata": {},
   "source": []
  },
  {
   "cell_type": "code",
   "execution_count": null,
   "metadata": {},
   "outputs": [],
   "source": []
  }
 ],
 "metadata": {
  "kernelspec": {
   "display_name": "pl",
   "language": "python",
   "name": "python3"
  },
  "language_info": {
   "codemirror_mode": {
    "name": "ipython",
    "version": 3
   },
   "file_extension": ".py",
   "mimetype": "text/x-python",
   "name": "python",
   "nbconvert_exporter": "python",
   "pygments_lexer": "ipython3",
   "version": "3.10.13"
  }
 },
 "nbformat": 4,
 "nbformat_minor": 2
}
